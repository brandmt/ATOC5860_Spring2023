{
 "cells": [
  {
   "cell_type": "code",
   "execution_count": 1,
   "id": "c1b3102f-ea8d-4dbe-98a5-6827cbdc4c38",
   "metadata": {},
   "outputs": [],
   "source": [
    "import matplotlib.pyplot as plt\n",
    "import numpy as np \n",
    "import pandas as pd\n",
    "import scipy.stats as stats"
   ]
  },
  {
   "cell_type": "code",
   "execution_count": 2,
   "id": "af9d0a36-7b61-4825-aa5b-778f00598936",
   "metadata": {},
   "outputs": [
    {
     "data": {
      "text/html": [
       "<div>\n",
       "<style scoped>\n",
       "    .dataframe tbody tr th:only-of-type {\n",
       "        vertical-align: middle;\n",
       "    }\n",
       "\n",
       "    .dataframe tbody tr th {\n",
       "        vertical-align: top;\n",
       "    }\n",
       "\n",
       "    .dataframe thead th {\n",
       "        text-align: right;\n",
       "    }\n",
       "</style>\n",
       "<table border=\"1\" class=\"dataframe\">\n",
       "  <thead>\n",
       "    <tr style=\"text-align: right;\">\n",
       "      <th></th>\n",
       "      <th>P_hPa</th>\n",
       "      <th>R_inches</th>\n",
       "    </tr>\n",
       "  </thead>\n",
       "  <tbody>\n",
       "    <tr>\n",
       "      <th>0</th>\n",
       "      <td>842.63</td>\n",
       "      <td>0.0</td>\n",
       "    </tr>\n",
       "    <tr>\n",
       "      <th>1</th>\n",
       "      <td>842.58</td>\n",
       "      <td>0.0</td>\n",
       "    </tr>\n",
       "    <tr>\n",
       "      <th>2</th>\n",
       "      <td>842.13</td>\n",
       "      <td>0.0</td>\n",
       "    </tr>\n",
       "    <tr>\n",
       "      <th>3</th>\n",
       "      <td>842.38</td>\n",
       "      <td>0.0</td>\n",
       "    </tr>\n",
       "    <tr>\n",
       "      <th>4</th>\n",
       "      <td>842.57</td>\n",
       "      <td>0.0</td>\n",
       "    </tr>\n",
       "  </tbody>\n",
       "</table>\n",
       "</div>"
      ],
      "text/plain": [
       "    P_hPa  R_inches\n",
       "0  842.63       0.0\n",
       "1  842.58       0.0\n",
       "2  842.13       0.0\n",
       "3  842.38       0.0\n",
       "4  842.57       0.0"
      ]
     },
     "execution_count": 2,
     "metadata": {},
     "output_type": "execute_result"
    }
   ],
   "source": [
    "### Read in the data\n",
    "filename='homework1_data.csv'\n",
    "data=pd.read_csv(filename,sep=',')\n",
    "data.head()"
   ]
  },
  {
   "cell_type": "code",
   "execution_count": 3,
   "id": "7ee57fbf-8972-4833-8901-88db6f25d5c4",
   "metadata": {},
   "outputs": [
    {
     "name": "stdout",
     "output_type": "stream",
     "text": [
      "Avg Pressure = 846.33\n",
      "Avg Pressure when Raining = 847.03\n"
     ]
    }
   ],
   "source": [
    "P_mean = data['P_hPa'].mean()\n",
    "print(f'Avg Pressure = {np.round(P_mean,2)}') \n",
    "\n",
    "P_avg = data[data.R_inches>=0.01]['P_hPa'].mean()\n",
    "print(f'Avg Pressure when Raining = {np.round(P_avg,2)}') "
   ]
  },
  {
   "cell_type": "code",
   "execution_count": 4,
   "id": "3957ba5b-38d5-4912-b300-b04e208f0ae1",
   "metadata": {},
   "outputs": [
    {
     "name": "stdout",
     "output_type": "stream",
     "text": [
      "95% confidence limits - t-statistic: 846.21 < X < 846.45\n",
      "95% confidence limits - z-statistic: 846.21 < X < 846.45\n",
      "Can reject the null hypthesis.\n"
     ]
    }
   ],
   "source": [
    "#### Calculate the 95% and 99% confidence limits on the 21st century warming using t-statistic\n",
    "#### Assume that the global warming is normally distributed.  (See page 18 of Barnes notes)\n",
    "Pressure = data['P_hPa']\n",
    "P_std = data['P_hPa'].std()\n",
    "\n",
    "N=len(Pressure)\n",
    "df=N-1\n",
    "\n",
    "# t-statistic\n",
    "tstat95=stats.t.ppf(0.975,df)\n",
    "low_limit95=P_mean-tstat95*(P_std/np.sqrt(N-1))\n",
    "high_limit95=P_mean+tstat95*(P_std/np.sqrt(N-1))\n",
    "print(f'95% confidence limits - t-statistic: {np.round(low_limit95,2)} < X < {np.round(high_limit95,2)}')\n",
    "\n",
    "# z-statistic\n",
    "zstat95=stats.norm.ppf(0.975)\n",
    "low_limit95=P_mean-zstat95*(P_std/np.sqrt(N-1))\n",
    "high_limit95=P_mean+zstat95*(P_std/np.sqrt(N-1))\n",
    "print(f'95% confidence limits - z-statistic: {np.round(low_limit95,2)} < X < {np.round(high_limit95,2)}')\n",
    "\n",
    "if (P_avg<low_limit95) or (P_avg>high_limit95):\n",
    "    print('Can reject the null hypthesis.')\n",
    "else:\n",
    "    print('Cannot reject the null hypthesis.')    "
   ]
  },
  {
   "cell_type": "code",
   "execution_count": 5,
   "id": "e2a6b297-9bd7-4091-b469-4b24ac1680c4",
   "metadata": {},
   "outputs": [
    {
     "name": "stdout",
     "output_type": "stream",
     "text": [
      "Btsp Avg = 846.34\n",
      "Btsp Std = 0.28\n",
      "Btsp Min = 845.36\n",
      "Btsp Max = 847.29\n"
     ]
    }
   ],
   "source": [
    "P_rain = data[data.R_inches>=0.01]['P_hPa']\n",
    "Num_P_rain = len(P_rain)\n",
    "\n",
    "### Now Bootstrap Nbs times to generate a distribution of randomly selected mean SWE.\n",
    "Nbs=1000\n",
    "## initialize array\n",
    "P_Bootstrap=np.empty((Nbs,Num_P_rain))\n",
    "## loop over to fill in array with randomly selected values\n",
    "for ii in range(Nbs):\n",
    "    P_Bootstrap[ii,:]=np.random.choice(data.P_hPa,Num_P_rain)\n",
    "\n",
    "## Calculate the means of your randomly selected SWE values.\n",
    "P_Bootstrap_mean=np.mean(P_Bootstrap,axis=1)\n",
    "\n",
    "\n",
    "P_Bootstrap_mean_avg=np.mean(P_Bootstrap_mean)\n",
    "print(f'Btsp Avg = {round(P_Bootstrap_mean_avg,2)}')\n",
    "\n",
    "P_Bootstrap_mean_std=np.std(P_Bootstrap_mean)\n",
    "print(f'Btsp Std = {round(P_Bootstrap_mean_std,2)}')\n",
    "\n",
    "P_Bootstrap_mean_min=np.min(P_Bootstrap_mean)\n",
    "print(f'Btsp Min = {round(P_Bootstrap_mean_min,2)}')\n",
    "\n",
    "P_Bootstrap_mean_max=np.max(P_Bootstrap_mean)\n",
    "print(f'Btsp Max = {round(P_Bootstrap_mean_max,2)}')"
   ]
  },
  {
   "cell_type": "code",
   "execution_count": 6,
   "id": "84ccca28-63ad-4f67-8f6e-cb7de286f76a",
   "metadata": {},
   "outputs": [
    {
     "data": {
      "image/png": "[encoded data removed]",
      "text/plain": [
       "<Figure size 640x480 with 1 Axes>"
      ]
     },
     "metadata": {},
     "output_type": "display_data"
    }
   ],
   "source": [
    "### Use matplotlib to plot a histogram of the bootstrapped means to compare to the conditioned SWE mean\n",
    "binsize=0.03\n",
    "min4hist=np.round(np.min(P_Bootstrap_mean),1)-binsize\n",
    "max4hist=np.round(np.max(P_Bootstrap_mean),1)+binsize\n",
    "nbins=int((max4hist-min4hist)/binsize)\n",
    "\n",
    "plt.hist(P_Bootstrap_mean,nbins,edgecolor='black')\n",
    "plt.xlabel('Mean Pressure (hPa)');\n",
    "plt.ylabel('Count');\n",
    "plt.title('Bootstrapped Randomly Selected Mean Pressure Values');"
   ]
  },
  {
   "cell_type": "code",
   "execution_count": 7,
   "id": "ae524359-f7f0-4a45-ae34-95159800aca1",
   "metadata": {},
   "outputs": [],
   "source": [
    "sample_mean=P_avg\n",
    "sample_N=1\n",
    "population_mean=np.mean(P_Bootstrap_mean)\n",
    "population_std=np.std(P_Bootstrap_mean)\n",
    "xstd=population_std/np.sqrt(sample_N)\n",
    "z_rain=(sample_mean-population_mean)/xstd"
   ]
  },
  {
   "cell_type": "code",
   "execution_count": 8,
   "id": "b45f1b7b-c6bd-4f14-903f-f1f86b871f10",
   "metadata": {},
   "outputs": [
    {
     "name": "stdout",
     "output_type": "stream",
     "text": [
      "Can reject the null hypothesis\n",
      "zrain: 2.45 > zcrit: 1.96\n"
     ]
    }
   ],
   "source": [
    "zcrit = stats.norm.ppf(0.975)\n",
    "\n",
    "if z_rain > zcrit:\n",
    "    print('Can reject the null hypothesis')\n",
    "    print(f'zrain: {round(z_rain,2)} > zcrit: {round(zcrit,2)}')\n",
    "else:\n",
    "    print('Cannot reject the null hypothesis')"
   ]
  },
  {
   "cell_type": "code",
   "execution_count": null,
   "id": "3b6f30f0-8b66-44ff-a466-1621621fd5ba",
   "metadata": {},
   "outputs": [],
   "source": []
  }
 ],
 "metadata": {
  "kernelspec": {
   "display_name": "Python 3 (ipykernel)",
   "language": "python",
   "name": "python3"
  },
  "language_info": {
   "codemirror_mode": {
    "name": "ipython",
    "version": 3
   },
   "file_extension": ".py",
   "mimetype": "text/x-python",
   "name": "python",
   "nbconvert_exporter": "python",
   "pygments_lexer": "ipython3",
   "version": "3.9.15"
  }
 },
 "nbformat": 4,
 "nbformat_minor": 5
}
